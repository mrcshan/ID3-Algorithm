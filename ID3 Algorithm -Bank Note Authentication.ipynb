{
 "cells": [
  {
   "cell_type": "markdown",
   "id": "539d40f8",
   "metadata": {},
   "source": [
    "PREDICTION OF BANKNOTE AUTHENTICATION USING ID3 CLASSIFIERS"
   ]
  },
  {
   "cell_type": "code",
   "execution_count": 1,
   "id": "24bc786c",
   "metadata": {},
   "outputs": [],
   "source": [
    "# IMPORT NECESSARY LIBRARIES\n",
    "import numpy as np\n",
    "import pandas as pd\n",
    "from sklearn.model_selection import train_test_split\n",
    "from sklearn.tree import DecisionTreeClassifier\n",
    "from sklearn.metrics import accuracy_score\n",
    "from sklearn.metrics import classification_report\n",
    "from sklearn.metrics import confusion_matrix\n"
   ]
  },
  {
   "cell_type": "code",
   "execution_count": 3,
   "id": "40ab9515",
   "metadata": {},
   "outputs": [
    {
     "name": "stdout",
     "output_type": "stream",
     "text": [
      "      WaveletVar  WaveletSkew  WaveletCurt  Entropy  Class\n",
      "0        3.62160      8.66610      -2.8073 -0.44699      0\n",
      "1        4.54590      8.16740      -2.4586 -1.46210      0\n",
      "2        3.86600     -2.63830       1.9242  0.10645      0\n",
      "3        3.45660      9.52280      -4.0112 -3.59440      0\n",
      "4        0.32924     -4.45520       4.5718 -0.98880      0\n",
      "...          ...          ...          ...      ...    ...\n",
      "1367     0.40614      1.34920      -1.4501 -0.55949      1\n",
      "1368    -1.38870     -4.87730       6.4774  0.34179      1\n",
      "1369    -3.75030    -13.45860      17.5932 -2.77710      1\n",
      "1370    -3.56370     -8.38270      12.3930 -1.28230      1\n",
      "1371    -2.54190     -0.65804       2.6842  1.19520      1\n",
      "\n",
      "[1372 rows x 5 columns]\n"
     ]
    }
   ],
   "source": [
    "# READ THE CSV FILE\n",
    "df=pd.read_csv(r'E:\\MLdataset\\4.banknote.csv')\n",
    "# PRINT THE DATAFR\n",
    "print(df)\n"
   ]
  },
  {
   "cell_type": "markdown",
   "id": "cded9fe2",
   "metadata": {},
   "source": [
    "The dataset typically consists of the following columns:\n",
    "\n",
    "Variance of Wavelet Transformed Image (variance):\n",
    "Measures the variability in pixel intensity of the banknote image.\n",
    "\n",
    "Skewness of Wavelet Transformed Image (skewness):\n",
    "Indicates the asymmetry in the distribution of pixel intensities.\n",
    "\n",
    "Kurtosis of Wavelet Transformed Image (kurtosis):\n",
    "Measures the sharpness of the distribution of pixel intensities.\n",
    "\n",
    "Entropy of Image (entropy):\n",
    "Represents randomness or disorder in the image's pixel distribution.\n",
    "\n",
    "Target Column\n",
    "Class:\n",
    "A binary value (0 or 1) representing whether the banknote is:\n",
    "0: Forged.\n",
    "1: Genuine.\n"
   ]
  },
  {
   "cell_type": "code",
   "execution_count": 4,
   "id": "aea1c3d5",
   "metadata": {},
   "outputs": [],
   "source": [
    "# EXTRACT FEATURES AND LABELS\n",
    "X=df.values[:,0:4]\n",
    "Y=df.values[:,4]"
   ]
  },
  {
   "cell_type": "code",
   "execution_count": 5,
   "id": "7dd25764",
   "metadata": {},
   "outputs": [
    {
     "data": {
      "text/plain": [
       "array([1., 0., 1., 0., 0., 0., 1., 0., 1., 0., 0., 1., 1., 0., 0., 0., 0.,\n",
       "       0., 0., 0., 1., 1., 0., 1., 1., 1., 0., 1., 1., 0., 1., 0., 1., 0.,\n",
       "       0., 0., 0., 1., 1., 1., 0., 0., 1., 0., 0., 1., 1., 0., 0., 1., 0.,\n",
       "       1., 0., 1., 1., 1., 0., 0., 0., 0., 1., 0., 0., 1., 1., 0., 0., 1.,\n",
       "       1., 0., 0., 0., 0., 0., 0., 0., 1., 1., 0., 0., 0., 1., 1., 1., 0.,\n",
       "       0., 0., 0., 0., 0., 1., 0., 0., 1., 0., 0., 0., 0., 0., 0., 0., 1.,\n",
       "       0., 0., 0., 1., 0., 0., 0., 1., 1., 1., 1., 0., 0., 0., 0., 1., 0.,\n",
       "       0., 1., 0., 1., 0., 0., 0., 1., 1., 1., 0., 0., 1., 0., 0., 1., 0.,\n",
       "       0., 0., 1., 0., 0., 0., 0., 0., 0., 0., 1., 0., 0., 1., 1., 0., 1.,\n",
       "       0., 1., 1., 0., 0., 0., 0., 1., 1., 0., 1., 1., 1., 0., 0., 1., 1.,\n",
       "       0., 0., 1., 0., 1., 0., 0., 0., 1., 0., 0., 0., 1., 1., 1., 1., 0.,\n",
       "       0., 1., 1., 0., 0., 0., 1., 1., 1., 1., 0., 0., 1., 1., 1., 0., 1.,\n",
       "       0., 1., 1., 0., 1., 0., 0., 0., 0., 0., 1., 0., 0., 1., 1., 1., 1.,\n",
       "       0., 1., 1., 0., 1., 0., 1., 1., 0., 0., 0., 0., 0., 0., 1., 0., 1.,\n",
       "       0., 1., 0., 0., 1., 1., 0., 0., 1., 1., 1., 1., 1., 0., 0., 0., 0.,\n",
       "       0., 0., 0., 0., 0., 0., 1., 1., 0., 0., 1., 0., 0., 0., 0., 0., 0.,\n",
       "       0., 0., 1., 1., 0., 1., 0., 1., 1., 0., 0., 1., 1., 0., 1., 0., 0.,\n",
       "       0., 1., 1., 1., 0., 0., 1., 0., 1., 0., 0., 1., 0., 1., 1., 0., 1.,\n",
       "       0., 0., 0., 1., 1., 1., 1., 1., 1., 1., 1., 0., 0., 0., 1., 0., 0.,\n",
       "       0., 0., 0., 1., 0., 0., 0., 1., 0., 0., 1., 1., 0., 0., 0., 1., 1.,\n",
       "       1., 0., 0., 0., 1., 0., 1., 0., 0., 0., 1., 0., 1., 0., 1., 0., 0.,\n",
       "       0., 0., 0., 1., 0., 1., 1., 0., 1., 0., 1., 0., 1., 0., 0., 1., 1.,\n",
       "       0., 0., 1., 1., 1., 0., 0., 0., 0., 0., 0., 1., 0., 0., 1., 0., 0.,\n",
       "       1., 1., 1., 0., 1., 0., 1., 1., 0., 1., 0., 0., 1., 0., 0., 0., 1.,\n",
       "       1., 1., 0., 0.])"
      ]
     },
     "execution_count": 5,
     "metadata": {},
     "output_type": "execute_result"
    }
   ],
   "source": [
    "# SPLIT DATASETS\n",
    "X_train,X_test,Y_train,Y_test=train_test_split(X,Y,test_size=0.3,random_state=100)\n",
    "model=DecisionTreeClassifier()\n",
    "model.fit(X_train,Y_train)\n",
    "Y_pred=model.predict(X_test)\n",
    "Y_pred"
   ]
  },
  {
   "cell_type": "code",
   "execution_count": 6,
   "id": "5032bec2",
   "metadata": {},
   "outputs": [
    {
     "name": "stdout",
     "output_type": "stream",
     "text": [
      "Accuracy: 99.27184466019418\n"
     ]
    }
   ],
   "source": [
    "# CALCULATE AND PRINT ACCURACY\n",
    "print('Accuracy:',accuracy_score(Y_test,Y_pred)*100)"
   ]
  },
  {
   "cell_type": "code",
   "execution_count": 8,
   "id": "1dc7ec91",
   "metadata": {},
   "outputs": [
    {
     "name": "stdout",
     "output_type": "stream",
     "text": [
      "Confusion matrix [[238   0]\n",
      " [  3 171]]\n"
     ]
    }
   ],
   "source": [
    " #PRINT CONFUSION MATRIX\n",
    "print('Confusion matrix',confusion_matrix(Y_test,Y_pred))"
   ]
  },
  {
   "cell_type": "code",
   "execution_count": 9,
   "id": "5b546829",
   "metadata": {},
   "outputs": [
    {
     "name": "stdout",
     "output_type": "stream",
     "text": [
      "classification report:               precision    recall  f1-score   support\n",
      "\n",
      "         0.0       0.99      1.00      0.99       238\n",
      "         1.0       1.00      0.98      0.99       174\n",
      "\n",
      "    accuracy                           0.99       412\n",
      "   macro avg       0.99      0.99      0.99       412\n",
      "weighted avg       0.99      0.99      0.99       412\n",
      "\n"
     ]
    }
   ],
   "source": [
    "# PRINT CLASSIFICATION REPORT\n",
    "print('classification report:',classification_report(Y_test,Y_pred))"
   ]
  },
  {
   "cell_type": "code",
   "execution_count": null,
   "id": "3dfd53df",
   "metadata": {},
   "outputs": [],
   "source": []
  }
 ],
 "metadata": {
  "kernelspec": {
   "display_name": "Python 3 (ipykernel)",
   "language": "python",
   "name": "python3"
  },
  "language_info": {
   "codemirror_mode": {
    "name": "ipython",
    "version": 3
   },
   "file_extension": ".py",
   "mimetype": "text/x-python",
   "name": "python",
   "nbconvert_exporter": "python",
   "pygments_lexer": "ipython3",
   "version": "3.9.13"
  }
 },
 "nbformat": 4,
 "nbformat_minor": 5
}
